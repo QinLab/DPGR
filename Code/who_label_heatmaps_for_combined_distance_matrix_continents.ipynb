{
 "cells": [
  {
   "cell_type": "code",
   "execution_count": 2,
   "id": "92ed9563",
   "metadata": {},
   "outputs": [],
   "source": [
    "#import libraries\n",
    "import pandas as pd\n",
    "import numpy as np\n",
    "import itertools\n",
    "import networkx as nx\n",
    "from scipy.cluster import hierarchy\n",
    "import scipy.spatial.distance as ssd\n",
    "import matplotlib.pyplot as plt\n",
    "import seaborn as sns\n",
    "from scipy import stats\n",
    "import math\n",
    "pd.options.mode.chained_assignment = None \n",
    "sns.set(font='Times New Roman')\n",
    "sns.set(font_scale=1.5)\n",
    "import matplotlib.pyplot \n",
    "import Bio\n",
    "#Neighbour Join Tree\n",
    "import pandas as pd\n",
    "from Bio.Phylo.TreeConstruction import DistanceMatrix, DistanceTreeConstructor\n",
    "import matplotlib.pyplot as plt\n",
    "import Bio.Phylo as Phylo\n",
    "import os\n",
    "import Bio.Phylo as Phylo\n",
    "import warnings"
   ]
  },
  {
   "cell_type": "code",
   "execution_count": 3,
   "id": "44716a11",
   "metadata": {},
   "outputs": [
    {
     "name": "stdout",
     "output_type": "stream",
     "text": [
      "      Variant                   Date       Location  Freq\n",
      "0       Alpha  2019-12-30/2020-01-05         Africa     1\n",
      "1       Alpha  2019-12-30/2020-01-05           Asia     8\n",
      "2       Alpha  2019-12-30/2020-01-05         Europe   629\n",
      "3       Alpha  2019-12-30/2020-01-05  North America     9\n",
      "4       Alpha  2020-02-03/2020-02-09         Europe     1\n",
      "...       ...                    ...            ...   ...\n",
      "1563  Omicron  2022-05-30/2022-06-05           Asia   273\n",
      "1564  Omicron  2022-05-30/2022-06-05         Europe  5815\n",
      "1565  Omicron  2022-05-30/2022-06-05  North America  4399\n",
      "1566  Omicron  2022-05-30/2022-06-05        Oceania   365\n",
      "1567  Omicron  2022-05-30/2022-06-05  South America    67\n",
      "\n",
      "[1568 rows x 4 columns]\n"
     ]
    }
   ],
   "source": [
    "df_weekly_sum = pd.read_csv('dpgr_who_continets.csv')\n",
    "print(df_weekly_sum)"
   ]
  },
  {
   "cell_type": "code",
   "execution_count": 4,
   "id": "6d109454",
   "metadata": {},
   "outputs": [],
   "source": [
    "#clades contains all GISAID clades, VOC contains GISAID clades containing VOCs\n",
    "#change clade input to whichever you want to analyze\n",
    "clades = ['Alpha', 'Beta', 'Gamma', 'Delta', 'Omicron','Epsilon','Lambda','Iota','Kappa','Mu','Eta','Zeta','Theta']\n",
    "# VOC = ['Delta', 'Omicron']\n",
    "VOC = ['Alpha', 'Beta', 'Gamma', 'Delta', 'Omicron']\n",
    "\n",
    "clade_input = VOC    ####\n",
    "\n",
    "#function to generate distance matrix based on quarter, year, and continent\n",
    "# def create_distance_matrix(df,quarter_continent):\n",
    "#     tmp = df['Variant'].str.split('vs', expand=True)\n",
    "#     clade_list = tmp[0].unique()\n",
    "#     distance_matrix = pd.DataFrame(index = clade_list)\n",
    "#     distance_matrix[clade_list] = np.nan\n",
    "#     #fill in distance matrix\n",
    "#     for i in clade_list:\n",
    "#         for j in clade_list:\n",
    "#             if i == j:\n",
    "#                 distance_matrix.loc[i,j] = 0\n",
    "#             else:\n",
    "#                 distance_matrix.loc[i,j] = (abs((df.loc[df['Variant'] == '{a} vs {b}'.format(a=i,b=j),\n",
    "#                                                         quarter_continent].iloc[0] + \n",
    "#                                             df.loc[df['Variant'] == '{a} vs {b}'.format(a=i,b=j), \n",
    "#                                                    quarter_continent].iloc[0])/2))\n",
    "#                 distance_matrix.loc[j,i] = (abs((df.loc[df['Variant'] == '{a} vs {b}'.format(a=i,b=j), \n",
    "#                                                         quarter_continent].iloc[0] + \n",
    "#                                             df.loc[df['Variant'] == '{a} vs {b}'.format(a=i,b=j), \n",
    "#                                                    quarter_continent].iloc[0])/2))\n",
    "#     return distance_matrix\n",
    "\n",
    "#this distance matrix only selects clades thats within the clade list\n",
    "def create_distance_matrix(df, quarter_continent, variant_choice_set):\n",
    "    clade_list = set()\n",
    "    for variant in df['Variant']:\n",
    "        clades = variant.split(' vs ')\n",
    "        clade_list.update(clades)\n",
    "#         print(clade_list)\n",
    "\n",
    "    \n",
    "    clade_list = sorted(clade_list)\n",
    "    clade_list = [variant for variant in clade_list if variant in variant_choice_set] #\n",
    "    distance_matrix = pd.DataFrame(index=clade_list, columns=clade_list)\n",
    "    \n",
    "    distance_matrix.fillna(0, inplace=True)\n",
    "\n",
    "    for i in clade_list:\n",
    "        for j in clade_list:\n",
    "            if i != j:\n",
    "                variant_1 = f\"{i} vs {j}\"\n",
    "                variant_2 = f\"{j} vs {i}\"\n",
    "                slope_1 = df.loc[df['Variant'] == variant_1, 'Slope']\n",
    "                slope_2 = df.loc[df['Variant'] == variant_2, 'Slope']\n",
    "                slope = slope_1.iloc[0] if not slope_1.empty else slope_2.iloc[0]\n",
    "                distance_matrix.loc[i, j] = abs(slope)\n",
    "                distance_matrix.loc[j, i] = abs(slope)\n",
    "\n",
    "    return distance_matrix\n",
    "\n",
    "\n",
    "# #function to generate difference matrix based on quarter, year, and continent\n",
    "# def create_difference_matrix(df,quarter_continent):\n",
    "#     tmp = df['Variant'].str.split('vs', expand=True)\n",
    "#     clade_list = tmp[0].unique()\n",
    "#     difference_matrix = pd.DataFrame(index = clade_list)\n",
    "#     difference_matrix[clade_list] = np.nan\n",
    "#     #fill in difference matrix\n",
    "#     for i in clade_list:\n",
    "#         for j in clade_list:\n",
    "#             if i == j:\n",
    "#                 difference_matrix.loc[i,j] = 0\n",
    "#             else:\n",
    "#                 difference_matrix.loc[i,j] = (abs((df.loc[df['Variant'] == '{a} vs {b}'.format(a=i,b=j),\n",
    "#                                                         quarter_continent].iloc[0] + \n",
    "#                                             df.loc[df['Variant'] == '{a} vs {b}'.format(a=i,b=j), \n",
    "#                                                    quarter_continent].iloc[0])/2))\n",
    "#                 difference_matrix.loc[j,i] = (abs((df.loc[df['Variant'] == '{a} vs {b}'.format(a=i,b=j), \n",
    "#                                                         quarter_continent].iloc[0] + \n",
    "#                                             df.loc[df['Variant'] == '{a} vs {b}'.format(a=i,b=j), \n",
    "#                                                    quarter_continent].iloc[0])/2))\n",
    "#     #if row_vs_col is a negative value, make it negative in difference matrix\n",
    "#     for i,v in difference_matrix.iterrows():\n",
    "#         for j in difference_matrix:\n",
    "#             if i != j:\n",
    "#                 if (df.loc[df['Variant'] == '{a} vs {b}'.format(a=i,b=j),quarter_continent].iloc[0]) < 0:\n",
    "#                     difference_matrix.loc[i,j] *= -1\n",
    "#     return difference_matrix\n",
    "\n",
    "#Modifed the distance matrix , here the input is only the generated distance matrix\n",
    "#function to generate difference matrix based on quarter, year, and continent\n",
    "# def create_difference_matrix(distance_matrix):\n",
    "# #     tmp = df['Variant'].str.split('vs', expand=True)\n",
    "# #     clade_list = tmp[0].unique()\n",
    "# #     difference_matrix = pd.DataFrame(index = clade_list)\n",
    "# #     difference_matrix[clade_list] = np.nan\n",
    "# #     #fill in difference matrix\n",
    "# #     for i in clade_list:\n",
    "# #         for j in clade_list:\n",
    "# #             if i == j:\n",
    "# #                 difference_matrix.loc[i,j] = 0\n",
    "# #             else:\n",
    "# #                 difference_matrix.loc[i,j] = (abs((df.loc[df['Variant'] == '{a} vs {b}'.format(a=i,b=j),\n",
    "# #                                                         quarter_continent].iloc[0] + \n",
    "# #                                             df.loc[df['Variant'] == '{a} vs {b}'.format(a=i,b=j), \n",
    "# #                                                    quarter_continent].iloc[0])/2))\n",
    "# #                 difference_matrix.loc[j,i] = (abs((df.loc[df['Variant'] == '{a} vs {b}'.format(a=i,b=j), \n",
    "# #                                                         quarter_continent].iloc[0] + \n",
    "# #                                             df.loc[df['Variant'] == '{a} vs {b}'.format(a=i,b=j), \n",
    "# #                                                    quarter_continent].iloc[0])/2))\n",
    "#     #if row_vs_col is a negative value, make it negative in difference matrix\n",
    "# #     for i,v in difference_matrix.iterrows():\n",
    "# #         for j in difference_matrix:\n",
    "# #             if i != j:\n",
    "# #                 if (df.loc[df['Variant'] == '{a} vs {b}'.format(a=i,b=j),quarter_continent].iloc[0]) < 0:\n",
    "# #                     difference_matrix.loc[i,j] *= -1\n",
    "# #     return difference_matrix\n",
    "\n",
    "#     difference_matrix = distance_matrix.copy()\n",
    "\n",
    "#     # Iterate over the rows and columns of the difference_matrix\n",
    "#     for i, row in difference_matrix.iterrows():\n",
    "#         for j in difference_matrix.columns:\n",
    "#             if i != j:\n",
    "#                 # Check if the row_vs_col value is negative\n",
    "#                 if distance_matrix.loc[i, j] < 0:\n",
    "#                     # Set values above the main diagonal to the negative value\n",
    "#                     difference_matrix.loc[i, j] = -abs(difference_matrix.loc[i, j])\n",
    "#                     print(difference_matrix)\n",
    "#                 else:\n",
    "#                     # Set values below the main diagonal to the positive value\n",
    "#                     difference_matrix.loc[i, j] = abs(difference_matrix.loc[i, j])\n",
    "                    \n",
    "#         return difference_matrix\n",
    "\n",
    "def create_difference_matrix(distance_matrix):\n",
    "    difference_matrix = distance_matrix.copy()\n",
    "\n",
    "    # Iterate over the rows and columns of the difference_matrix\n",
    "    for i, row in difference_matrix.iterrows():\n",
    "        for j in difference_matrix.columns:\n",
    "            if i != j:\n",
    "                # Check if the row_vs_col value is negative\n",
    "                if distance_matrix.loc[i, j] < 0:\n",
    "                    # Set values above the main diagonal to the negative value\n",
    "                    difference_matrix.loc[i, j] = -abs(difference_matrix.loc[i, j])\n",
    "                    difference_matrix.loc[j, i] = abs(difference_matrix.loc[i, j])\n",
    "                else:\n",
    "                    # Set values below the main diagonal to the positive value\n",
    "                    difference_matrix.loc[i, j] = abs(difference_matrix.loc[i, j])\n",
    "                    difference_matrix.loc[j, i] = -abs(difference_matrix.loc[i, j])\n",
    "\n",
    "    return difference_matrix\n",
    "\n",
    "\n",
    "#function to calculate the log transformed ratio of two clades\n",
    "def transform_ratio(clade_1, clade_2):\n",
    "    return np.log10(clade_1/clade_2)\n",
    "\n",
    "def time_frame(df, start_date, end_date):  #updated\n",
    "    time_window = pd.date_range(start=start_date, end=end_date).strftime('%Y-%m').unique().tolist()\n",
    "    print(time_window)\n",
    "    dataframe = df.loc[df['Collection date'].isin(time_window)]\n",
    "#     print(f\"dataframe after time window:\\n {dataframe.head()}\")\n",
    "    dataframe.iloc[:,2:] = dataframe.iloc[:,2:].cumsum()\n",
    "    for i in dataframe.columns.tolist():\n",
    "        if dataframe[i].isnull().all():\n",
    "            dataframe = dataframe.drop(i, axis=1)\n",
    "    return dataframe\n",
    "\n",
    "\n",
    "# def time_frame_no_cumsum(df,time_window):\n",
    "#     dataframe = df.loc[df['Collection date'].isin(time_window)]\n",
    "#     return dataframe\n",
    "\n",
    "def time_frame_no_cumsum(df,start_date, end_date): #updated\n",
    "    time_window = pd.date_range(start=start_date, end=end_date).strftime('%Y-%m').unique().tolist()\n",
    "    print(time_window)\n",
    "    dataframe = df.loc[df['Collection date'].isin(time_window)]\n",
    "    return dataframe\n",
    "\n",
    "#function returns slope of clade advantage plots\n",
    "def slope_calc(day, pairwise_fitness):\n",
    "    par = np.polyfit(day, pairwise_fitness, 1, full = True)\n",
    "    slope= par[0][0]\n",
    "    return slope\n",
    "\n",
    "def clade_comparisons(df):\n",
    "    clade_list = [i for i in clade_input if i in df.columns.tolist()]\n",
    "\n",
    "    df['date_ordinal'] = pd.to_datetime(df['Date']).apply(lambda date: date.toordinal())\n",
    "    df['days'] = df['date_ordinal'] - 737425\n",
    "    #calculate log ratio for each clade comparison\n",
    "    for i in clade_list:\n",
    "        for j in clade_list:\n",
    "            if i != j:\n",
    "                df['{a} vs {b}'.format(a=i,b=j)] = df.apply(lambda row : \n",
    "                                                                        transform_ratio(row['{a}'.format(a=i)],\n",
    "                                                                                        row['{b}'.format(b=j)]),\n",
    "                                                                                        axis = 1)\n",
    "    clade_list.append('date_ordinal')\n",
    "    df = df.drop(clade_list, axis=1)\n",
    "    return df"
   ]
  },
  {
   "cell_type": "markdown",
   "id": "319f8370",
   "metadata": {},
   "source": [
    "### *Use the automation mine function to create the distance matrix in variant choice set for specific time window*"
   ]
  },
  {
   "cell_type": "code",
   "execution_count": 5,
   "id": "cf9e2701",
   "metadata": {},
   "outputs": [],
   "source": [
    "# This function finds the distance matrix among all the clades \n",
    "\n",
    "def automation_mine(country, dataset, start, end, variant_choice_set):\n",
    "    \n",
    "    df_weekly = dataset[dataset['Location'] == country]\n",
    "    \n",
    "#     # Set the option to display all rows\n",
    "#     pd.set_option('display.max_rows', None)\n",
    "#     print(df_weekly)\n",
    "    \n",
    "#     print(df_weekly.head())\n",
    "    #print unique variants available in the target location\n",
    "    print(f\"Vaiants available at {country} : {df_weekly['Variant'].unique()}\")\n",
    "    #pivot dataframe so that index is date and columns are clades\n",
    "    df_weekly = df_weekly.pivot(index = 'Date', columns = 'Variant', values = 'Freq')\n",
    "    df_weekly = df_weekly.reset_index()\n",
    "    \n",
    "\n",
    "    df_weekly['Collection date'] = np.random.randint(1,6,df_weekly.shape[0])\n",
    "\n",
    "    #split date column so we can retrieve month and year\n",
    "    tmp = df_weekly['Date'].str.rsplit('-',n=3, expand = True)\n",
    "    tmp.columns = ['0','1','2','3']\n",
    "\n",
    "    #collection date column contains month and year of each week \n",
    "    df_weekly['Collection date'] = tmp['0']\n",
    "    cols = df_weekly.columns.tolist()\n",
    "    cols = cols[0:1] + cols[-1:] + cols[1:-1]\n",
    "    df_weekly = df_weekly[cols]\n",
    "#     print(f\"df_weekly :\\n {df_weekly.head}\")\n",
    "#     print(f\"df_weekly : \\n {df_weekly.columns}\")\n",
    "           \n",
    "    #specify time frame to analyze\n",
    "    df_sum = time_frame(df_weekly, start, end)\n",
    "    # df_sum.to_csv(country+\"df_sum\"+r'.csv')\n",
    "#     print(f\"df_sum :\\n {df_sum}\")\n",
    "    #calculate log comparisons at each week\n",
    "    df_ = clade_comparisons(df_sum)\n",
    "#     print(f\" df_ : \\n{df_}\")\n",
    "    # df_.to_csv(country+'_clade_comparison')\n",
    "    df_['days'] -= df_['days'].iloc[0]\n",
    "#     print(f\"df_ :\\n {df_}\")\n",
    "#     print(f\"df_ :\\n {df_.columns}\")\n",
    "    \n",
    "\n",
    "    #Make the combinations of the variant choice set\n",
    "    combinations = []\n",
    "\n",
    "    # Append 'Omicron vs Delta'\n",
    "    combination1 = ' vs '.join(variant_choice_set)\n",
    "    combinations.append(combination1)\n",
    "\n",
    "    # Append 'Delta vs Omicron'\n",
    "    combination2 = ' vs '.join(sorted(list(variant_choice_set), reverse=True))\n",
    "    combinations.append(combination2)\n",
    "    \n",
    "\n",
    "    #calculate slopes, have to disregard nans\n",
    "    df_slopes = pd.DataFrame()\n",
    "    cols = df_.columns.to_list()\n",
    "#     print(f\"df_ columns : {cols}\")\n",
    "    df_slopes['Variant'] = cols[3:]\n",
    "#     print(f\"df_slopes:\\n {df_slopes}\")\n",
    "    slopes = []\n",
    "    for i,v in enumerate(df_.iloc[:,3:]):\n",
    "#         tmp = df_[~df_.iloc[:,i+3].isnull()] ##issue (it chooses columns using the index)\n",
    "        tmp = df_[df_.loc[:, df_.columns.isin(combinations)].notnull().any(axis=1)] #it chooses the columns that are given in the variant_choice set\n",
    "        tmp['pseudo_time'] = np.array(range(0, tmp.shape[0] ))*7\n",
    "#         print(f\"tmp :\\n {tmp}\")\n",
    "        slopes.append(slope_calc(tmp.iloc[0:len(tmp),len(tmp.columns) - 1], tmp.iloc[0:len(tmp),i+3]))\n",
    "#         slopes.append(slope_calc(tmp.iloc[0:len(tmp),len(tmp.columns) - 1], tmp[v])) \n",
    "        #print(len(slopes))\n",
    "#         print(df_slopes)\n",
    "#     print(f\"tmp :\\n {tmp}\")\n",
    "#     print(f\"Slopes: {slopes}\")\n",
    "    df_slopes['Slope'] = slopes\n",
    "#     print(df_slopes)\n",
    "    df_slopes = pd.DataFrame(df_slopes)   #changed\n",
    "    \n",
    "#     dist_mat = create_distance_matrix(df_slopes,'Slope')\n",
    "#     # dist_mat.to_csv(country+\"_dist_mat_WHO\"+r'.csv')\n",
    "#     print(f\"distance matrix :\\n {dist_mat}\")\n",
    "\n",
    "#     #define the file path\n",
    "#     file_path = f'/scr/mjpantho/Pantho_differential_fitness/Distance_matrix_who/{country + \"_\" + start + \"_\" + end + \"_dist_mat_who_labels\"}.csv'\n",
    "\n",
    "    dist_mat = create_distance_matrix(df_slopes, 'Slope', variant_choice_set)\n",
    "#     dist_mat.to_csv(file_path, index=True)\n",
    "    print(f\"Diatance matrix: \\n {dist_mat}\")\n",
    "    \n",
    "    dist_mat = create_distance_matrix(df_slopes, 'Slope', variant_choice_set)\n",
    "    file_name = f\"{country}_{start}_{end}_dist_mat.csv\"\n",
    "    directory = \"/scr/mjpantho/Pantho_differential_fitness/distance_matrix_for_step_plot/\"\n",
    "\n",
    "    # Create the directory if it doesn't exist\n",
    "    if not os.path.exists(directory):\n",
    "        os.makedirs(directory)\n",
    "\n",
    "    file_path = os.path.join(directory, file_name)\n",
    "    dist_mat.to_csv(file_path, index=True)\n",
    "    if os.path.isfile(file_path):\n",
    "        print(f\"Distance matrix saved at: {file_path}\")\n",
    "    else:\n",
    "        print(\"Error: Failed to save the distance matrix.\")\n",
    "\n",
    "\n",
    "#     # Specify the directory path\n",
    "#     directory = \"/scr/mjpantho/Pantho_differential_fitness/omicron_vs_delta_regression_plots/\"\n",
    "\n",
    "#     # Create the directory if it doesn't exist\n",
    "#     if not os.path.exists(directory):\n",
    "#         os.makedirs(directory)\n",
    "    \n",
    "#     dif_mat = create_difference_matrix(df_slopes,'Slope')\n",
    "#     # dif_mat.to_csv(country+\"_dif_mat_WHO\"+r'.csv')\n",
    "#     # print(f\"difference matrix :\\n {dif_mat}\")\n",
    "\n",
    "#     #Plot distance matrix as clustermap\n",
    "#     sns.set(rc = {'figure.figsize':(10, 20)}, font_scale = 1.8)\n",
    "\n",
    "#     #create distance array from distance matrix\n",
    "#     distance_array = ssd.squareform(dist_mat) \n",
    "\n",
    "#     #create linkage object\n",
    "#     distance_linkage = hierarchy.linkage(distance_array)\n",
    "#     print(distance_array.shape)\n",
    "#     print(dist_mat.shape)\n",
    "\n",
    "#     #display clustermap\n",
    "#     g = sns.clustermap(dif_mat, row_linkage=distance_linkage, col_linkage=distance_linkage,\n",
    "#                         cmap = 'coolwarm',vmin=-.023,vmax=0.023, cbar_pos=(0.971, 0.087, .03, 0.7))                     \n",
    "#     # g.fig.set_size_inches(10, 10)\n",
    "#     # plt.savefig(country+\"_clustermap_WHO\"+'.jpg', dpi = 300, bbox_inches='tight')\n",
    "#     return g"
   ]
  },
  {
   "cell_type": "markdown",
   "id": "be096975",
   "metadata": {},
   "source": [
    "## North America"
   ]
  },
  {
   "cell_type": "code",
   "execution_count": 6,
   "id": "0fe21cfc",
   "metadata": {},
   "outputs": [
    {
     "name": "stdout",
     "output_type": "stream",
     "text": [
      "Vaiants available at North America : ['Alpha' 'Beta' 'Delta' 'Gamma' 'Omicron']\n",
      "['2020-12', '2021-01']\n",
      "Diatance matrix: \n",
      "           Alpha      Beta\n",
      "Alpha  0.000000  0.000392\n",
      "Beta   0.000392  0.000000\n",
      "Distance matrix saved at: /scr/mjpantho/Pantho_differential_fitness/distance_matrix_for_step_plot/North America_2020-12_2021-01_dist_mat.csv\n"
     ]
    }
   ],
   "source": [
    "# #automation function finds the diatance matrix\n",
    "automation_mine('North America', df_weekly_sum, start = '2020-12', end = '2021-01', variant_choice_set= {'Alpha', 'Beta'})"
   ]
  },
  {
   "cell_type": "code",
   "execution_count": 7,
   "id": "fea340ec",
   "metadata": {},
   "outputs": [
    {
     "name": "stdout",
     "output_type": "stream",
     "text": [
      "Vaiants available at North America : ['Alpha' 'Beta' 'Delta' 'Gamma' 'Omicron']\n",
      "['2021-08', '2021-09']\n",
      "Diatance matrix: \n",
      "            Beta     Delta\n",
      "Beta   0.000000  0.006185\n",
      "Delta  0.006185  0.000000\n",
      "Distance matrix saved at: /scr/mjpantho/Pantho_differential_fitness/distance_matrix_for_step_plot/North America_2021-08_2021-09_dist_mat.csv\n"
     ]
    }
   ],
   "source": [
    "# #automation function finds the diatance matrix\n",
    "automation_mine('North America', df_weekly_sum, start = '2021-08', end = '2021-09', variant_choice_set= {'Beta', 'Delta'})"
   ]
  },
  {
   "cell_type": "code",
   "execution_count": 8,
   "id": "f23da618",
   "metadata": {},
   "outputs": [
    {
     "name": "stdout",
     "output_type": "stream",
     "text": [
      "Vaiants available at North America : ['Alpha' 'Beta' 'Delta' 'Gamma' 'Omicron']\n",
      "['2022-03', '2022-04', '2022-05']\n",
      "Diatance matrix: \n",
      "            Delta  Omicron\n",
      "Delta    0.00000  0.00801\n",
      "Omicron  0.00801  0.00000\n",
      "Distance matrix saved at: /scr/mjpantho/Pantho_differential_fitness/distance_matrix_for_step_plot/North America_2022-03_2022-05_dist_mat.csv\n"
     ]
    }
   ],
   "source": [
    "# #automation function finds the diatance matrix\n",
    "automation_mine('North America', df_weekly_sum, start = '2022-03', end = '2022-05', variant_choice_set= {'Delta', 'Omicron'})"
   ]
  },
  {
   "cell_type": "code",
   "execution_count": 9,
   "id": "3ece19ef",
   "metadata": {},
   "outputs": [
    {
     "data": {
      "text/html": [
       "<div>\n",
       "<style scoped>\n",
       "    .dataframe tbody tr th:only-of-type {\n",
       "        vertical-align: middle;\n",
       "    }\n",
       "\n",
       "    .dataframe tbody tr th {\n",
       "        vertical-align: top;\n",
       "    }\n",
       "\n",
       "    .dataframe thead th {\n",
       "        text-align: right;\n",
       "    }\n",
       "</style>\n",
       "<table border=\"1\" class=\"dataframe\">\n",
       "  <thead>\n",
       "    <tr style=\"text-align: right;\">\n",
       "      <th></th>\n",
       "      <th>Alpha</th>\n",
       "      <th>Beta</th>\n",
       "    </tr>\n",
       "  </thead>\n",
       "  <tbody>\n",
       "    <tr>\n",
       "      <th>Alpha</th>\n",
       "      <td>0.000000</td>\n",
       "      <td>0.000392</td>\n",
       "    </tr>\n",
       "    <tr>\n",
       "      <th>Beta</th>\n",
       "      <td>0.000392</td>\n",
       "      <td>0.000000</td>\n",
       "    </tr>\n",
       "  </tbody>\n",
       "</table>\n",
       "</div>"
      ],
      "text/plain": [
       "          Alpha      Beta\n",
       "Alpha  0.000000  0.000392\n",
       "Beta   0.000392  0.000000"
      ]
     },
     "execution_count": 9,
     "metadata": {},
     "output_type": "execute_result"
    }
   ],
   "source": [
    "alpha_beta_na = pd.read_csv(\n",
    "    '/scr/mjpantho/Pantho_differential_fitness/distance_matrix_for_step_plot/North America_2020-12_2021-01_dist_mat.csv',\n",
    "    index_col=0)\n",
    "alpha_beta_na"
   ]
  },
  {
   "cell_type": "code",
   "execution_count": 10,
   "id": "8a204d06",
   "metadata": {},
   "outputs": [
    {
     "data": {
      "text/html": [
       "<div>\n",
       "<style scoped>\n",
       "    .dataframe tbody tr th:only-of-type {\n",
       "        vertical-align: middle;\n",
       "    }\n",
       "\n",
       "    .dataframe tbody tr th {\n",
       "        vertical-align: top;\n",
       "    }\n",
       "\n",
       "    .dataframe thead th {\n",
       "        text-align: right;\n",
       "    }\n",
       "</style>\n",
       "<table border=\"1\" class=\"dataframe\">\n",
       "  <thead>\n",
       "    <tr style=\"text-align: right;\">\n",
       "      <th></th>\n",
       "      <th>Beta</th>\n",
       "      <th>Delta</th>\n",
       "    </tr>\n",
       "  </thead>\n",
       "  <tbody>\n",
       "    <tr>\n",
       "      <th>Beta</th>\n",
       "      <td>0.000000</td>\n",
       "      <td>0.006185</td>\n",
       "    </tr>\n",
       "    <tr>\n",
       "      <th>Delta</th>\n",
       "      <td>0.006185</td>\n",
       "      <td>0.000000</td>\n",
       "    </tr>\n",
       "  </tbody>\n",
       "</table>\n",
       "</div>"
      ],
      "text/plain": [
       "           Beta     Delta\n",
       "Beta   0.000000  0.006185\n",
       "Delta  0.006185  0.000000"
      ]
     },
     "execution_count": 10,
     "metadata": {},
     "output_type": "execute_result"
    }
   ],
   "source": [
    "beta_delta_na = pd.read_csv(\n",
    "    '/scr/mjpantho/Pantho_differential_fitness/distance_matrix_for_step_plot/North America_2021-08_2021-09_dist_mat.csv',\n",
    "    index_col= 0)\n",
    "beta_delta_na"
   ]
  },
  {
   "cell_type": "code",
   "execution_count": 11,
   "id": "c3748ff3",
   "metadata": {},
   "outputs": [
    {
     "data": {
      "text/html": [
       "<div>\n",
       "<style scoped>\n",
       "    .dataframe tbody tr th:only-of-type {\n",
       "        vertical-align: middle;\n",
       "    }\n",
       "\n",
       "    .dataframe tbody tr th {\n",
       "        vertical-align: top;\n",
       "    }\n",
       "\n",
       "    .dataframe thead th {\n",
       "        text-align: right;\n",
       "    }\n",
       "</style>\n",
       "<table border=\"1\" class=\"dataframe\">\n",
       "  <thead>\n",
       "    <tr style=\"text-align: right;\">\n",
       "      <th></th>\n",
       "      <th>Delta</th>\n",
       "      <th>Omicron</th>\n",
       "    </tr>\n",
       "  </thead>\n",
       "  <tbody>\n",
       "    <tr>\n",
       "      <th>Delta</th>\n",
       "      <td>0.00000</td>\n",
       "      <td>0.00801</td>\n",
       "    </tr>\n",
       "    <tr>\n",
       "      <th>Omicron</th>\n",
       "      <td>0.00801</td>\n",
       "      <td>0.00000</td>\n",
       "    </tr>\n",
       "  </tbody>\n",
       "</table>\n",
       "</div>"
      ],
      "text/plain": [
       "           Delta  Omicron\n",
       "Delta    0.00000  0.00801\n",
       "Omicron  0.00801  0.00000"
      ]
     },
     "execution_count": 11,
     "metadata": {},
     "output_type": "execute_result"
    }
   ],
   "source": [
    "delta_omicron_na = pd.read_csv(\n",
    "    '/scr/mjpantho/Pantho_differential_fitness/distance_matrix_for_step_plot/North America_2022-03_2022-05_dist_mat.csv',\n",
    "    index_col=0)\n",
    "delta_omicron_na"
   ]
  },
  {
   "cell_type": "markdown",
   "id": "54a71007",
   "metadata": {},
   "source": [
    "### *Combine the distance matrices and plot the heatmap for getting the combined distance matrix for all the variants*"
   ]
  },
  {
   "cell_type": "code",
   "execution_count": 108,
   "id": "a7e22728",
   "metadata": {},
   "outputs": [],
   "source": [
    "def heatmaps_from_combined_dist_map(clade_list, df1, df2, df3, location): #pass dataframe in a sorted order\n",
    "    # create an empty dataframe\n",
    "    clade_list = sorted(clade_list)\n",
    "    distance_matrix = pd.DataFrame(index=clade_list, columns=clade_list)\n",
    "    distance_matrix.fillna(0, inplace=True)\n",
    "    \n",
    "    # assign values to the empty dataframe\n",
    "    distance_matrix.iloc[0:2, 0:2] = pd.DataFrame(df1)\n",
    "    distance_matrix.iloc[1:3, 1:3] = pd.DataFrame(df2)\n",
    "    distance_matrix.iloc[2:4, 2:4] = pd.DataFrame(df3)\n",
    "    \n",
    "    distance_matrix.iloc[0,2] = distance_matrix.iloc[0,1] + distance_matrix.iloc[1,2]\n",
    "    distance_matrix.iloc[0,3] = distance_matrix.iloc[0,2] + distance_matrix.iloc[3,2]\n",
    "    distance_matrix.iloc[1,3] = distance_matrix.iloc[1,2] + distance_matrix.iloc[2,3]\n",
    "    distance_matrix.iloc[2,0] = distance_matrix.iloc[0,2] \n",
    "    distance_matrix.iloc[3,0] = distance_matrix.iloc[0,3] \n",
    "    distance_matrix.iloc[3,1] = distance_matrix.iloc[1,3] \n",
    "    \n",
    "    # Set the index of the dataframe to the first column\n",
    "    distance_matrix.set_index(distance_matrix.columns, inplace=True)\n",
    "    print(f\"Distance Matrix :\\n {distance_matrix}\")\n",
    "    \n",
    "    #export the combined distance matrix\n",
    "    #export the distance matrix\n",
    "    # Specify the directory path\n",
    "    directory = \"/scr/mjpantho/Pantho_differential_fitness/distance_matrix_for_step_plot/\"\n",
    "\n",
    "    \n",
    "    # Create the directory if it doesn't exist\n",
    "    if not os.path.exists(directory):\n",
    "        os.makedirs(directory)\n",
    "\n",
    "    # Save the figure to the specified directory with DPI set to 300\n",
    "    filename = os.path.join(directory, location + \"_continent_combined_distance_matrix_for_who_labels.csv\")\n",
    "    print(f\"Combined distance matrix saved at : {filename}\")\n",
    "    distance_matrix.to_csv(filename, index=False)\n",
    "\n",
    "    \n",
    "    dif_mat = create_difference_matrix(distance_matrix)\n",
    "    # dif_mat.to_csv(country+\"_dif_mat_WHO\"+r'.csv')\n",
    "    print(f\"difference matrix :\\n {dif_mat}\")\n",
    "    \n",
    "    #Plot distance matrix as clustermap\n",
    "    sns.set(rc={'figure.figsize': (2, 2)}, font_scale=1.2)  # Adjust the figsize as per your preference\n",
    "\n",
    "    #create distance array from distance matrix\n",
    "    distance_array = ssd.squareform(distance_matrix) \n",
    "\n",
    "    #create linkage object\n",
    "    distance_linkage = hierarchy.linkage(distance_array)\n",
    "#     print(distance_array.shape)\n",
    "#     print(dist_mat.shape)\n",
    "\n",
    "    # # Display clustermap\n",
    "    # g = sns.clustermap(dif_mat, row_linkage=distance_linkage, col_linkage=distance_linkage,\n",
    "    #                cmap='coolwarm', vmin=-.023, vmax=0.023, cbar_pos=(0.971, 0.274, .05, 0.54 ),figsize=(4, 4))\n",
    "    \n",
    "    # Display clustermap with annotations\n",
    "    with warnings.catch_warnings():\n",
    "        warnings.simplefilter(\"ignore\")\n",
    "        g = sns.clustermap(dif_mat, row_linkage=distance_linkage, col_linkage=distance_linkage,\n",
    "                           cmap='coolwarm', vmin=-0.023, vmax=0.023, cbar_pos=(0.969, 0.147, 0.04, 0.7),\n",
    "                           annot=True, fmt='.3f', annot_kws={\"size\": 7}, figsize=(4.6, 4.6), dendrogram_ratio=0.102)\n",
    "    \n",
    "        # Adjust colorbar label size\n",
    "        cax = g.cax\n",
    "        cax.set_yticklabels(cax.get_yticklabels(), fontsize=7)\n",
    "\n",
    "#***************************************************************************************************************************************\n",
    "    #Put the labels compared in each cell as text\n",
    "    # Get the x-axis and y-axis labels from the clustermap plot\n",
    "    x_labels = [label.get_text() for label in g.ax_heatmap.get_xticklabels()]\n",
    "    y_labels = [label.get_text() for label in g.ax_heatmap.get_yticklabels()]\n",
    "    # Add annotated texts in the cells\n",
    "    for i in range(dif_mat.shape[0]):\n",
    "        for j in range(dif_mat.shape[1]):\n",
    "            text = f\"{x_labels[i]} Vs. {y_labels[j]}\"\n",
    "            # value = f\"{dif_mat.iloc[i, j]:.3f}\"\n",
    "            text_x = g.ax_heatmap.get_xticks()[j]\n",
    "            text_y = g.ax_heatmap.get_yticks()[i]\n",
    "            g.ax_heatmap.text(text_x, text_y + 0.2, text, ha='center', va='center', fontsize=5.5, color='black')\n",
    "            \n",
    "#***************************************************************************************************************************************\n",
    "    \n",
    "    g.fig.suptitle(f'Clustermap of Variant of Concerns(WHO labels) \\nLocation: {location}', fontsize = 8.5, y = 1.05)\n",
    "\n",
    "    # Specify the directory path\n",
    "    directory = \"/scr/mjpantho/Pantho_differential_fitness/combined_heatmaps_continents_WHO labels/\"\n",
    "\n",
    "    # Create the directory if it doesn't exist\n",
    "    if not os.path.exists(directory):\n",
    "        os.makedirs(directory)\n",
    "\n",
    "    # Save the figure to the specified directory with DPI set to 300\n",
    "    filename = os.path.join(directory, location + \"_Omicron_vs_delta_combined_heatmaps_continents.png\")\n",
    "    g.savefig(filename, dpi=300, bbox_inches=\"tight\")\n",
    "    return g\n",
    "\n",
    "    \n",
    "    '''\n",
    "        This portion of code plots the step plot of progressive fitness growth \n",
    "        of the variants\n",
    "    '''\n",
    "    #*******************************************************************************************************************\n",
    "#     #export the combined distance matrix\n",
    "#     #export the distance matrix\n",
    "#     # Specify the directory path\n",
    "#     directory = \"/scr/mjpantho/Pantho_differential_fitness/distance_matrix_for_step_plot/\"\n",
    "\n",
    "#     # Create the directory if it doesn't exist\n",
    "#     if not os.path.exists(directory):\n",
    "#         os.makedirs(directory)\n",
    "\n",
    "#     # Save the figure to the specified directory with DPI set to 300\n",
    "#     filename = os.path.join(directory, location + \"_combined_distance_matrix_for_who_labels.csv\")\n",
    "#     distance_matrix.to_csv(filename, index=False)\n",
    "    \n",
    "#     # Create a step plot\n",
    "#     plt.figure(figsize=(3, 3))  # Set figure size to 3 by 3\n",
    "#     plt.step(distance_matrix.index, distance_matrix.values[0], linewidth=1.5, color='red')\n",
    "\n",
    "#     # Add labels and title\n",
    "# #     plt.xlabel('Variants', fontsize=12)\n",
    "#     plt.ylabel('Fitness Value', fontsize=12)\n",
    "#     plt.title(f'Progressive fitness growth of Covid Variants\\n Location: {location}', fontsize=12)\n",
    "\n",
    "#     # Set the background color to white\n",
    "#     plt.gca().set_facecolor('white')\n",
    "\n",
    "#     # Add axis lines\n",
    "#     plt.axhline(0, color='black', linewidth=0.5)\n",
    "#     plt.axvline(-0.1, color='black', linewidth=0.5)\n",
    "    \n",
    "#     # Rotate x-axis labels\n",
    "# #     plt.xticks(range(len(distance_matrix.index)), distance_matrix.index, rotation=90, fontsize=8)  # Adjust fontsize as needed\n",
    "#     plt.xticks([])  # Remove x-axis tick labels\n",
    "#     plt.yticks()\n",
    "\n",
    "#     # Display the labels on the graph\n",
    "#     categories = ['alpha', 'beta', 'delta', 'omicron']\n",
    "#     x = range(len(categories))\n",
    "#     values = distance_matrix.values[0][0:5]\n",
    "#     print(values)\n",
    "#     for i in range(len(categories)):\n",
    "#         plt.text(x[i], values[i], f'{categories[i]}', ha='left', va='bottom')\n",
    "\n",
    "# #     # Rotate x-axis labels\n",
    "# #     plt.xticks(rotation=90)\n",
    "# #     plt.yticks()\n",
    "\n",
    "#     # Specify the directory path\n",
    "#     directory = \"/scr/mjpantho/Pantho_differential_fitness/figures_for_step_plot/\"\n",
    "\n",
    "#     # Create the directory if it doesn't exist\n",
    "#     if not os.path.exists(directory):\n",
    "#         os.makedirs(directory)\n",
    "\n",
    "#     # Save the figure to the specified directory with DPI set to 300\n",
    "#     filename = os.path.join(directory, location + \"_variant_step_plot.png\")\n",
    "#     plt.savefig(filename, dpi=300, bbox_inches=\"tight\")\n",
    "    \n",
    "#     # Show the plot\n",
    "#     plt.show()\n",
    "    #*********************************************************************************************************************"
   ]
  },
  {
   "cell_type": "code",
   "execution_count": 109,
   "id": "a13b53ce",
   "metadata": {},
   "outputs": [
    {
     "name": "stdout",
     "output_type": "stream",
     "text": [
      "Distance Matrix :\n",
      "             Alpha      Beta     Delta   Omicron\n",
      "Alpha    0.000000  0.000392  0.006577  0.014587\n",
      "Beta     0.000392  0.000000  0.006185  0.014195\n",
      "Delta    0.006577  0.006185  0.000000  0.008010\n",
      "Omicron  0.014587  0.014195  0.008010  0.000000\n",
      "Combined distance matrix saved at : /scr/mjpantho/Pantho_differential_fitness/distance_matrix_for_step_plot/North America_continent_combined_distance_matrix_for_who_labels.csv\n",
      "difference matrix :\n",
      "             Alpha      Beta     Delta   Omicron\n",
      "Alpha    0.000000 -0.000392 -0.006577 -0.014587\n",
      "Beta     0.000392  0.000000 -0.006185 -0.014195\n",
      "Delta    0.006577  0.006185  0.000000 -0.008010\n",
      "Omicron  0.014587  0.014195  0.008010  0.000000\n"
     ]
    },
    {
     "data": {
      "image/png": "[encoded data removed]",
      "text/plain": [
       "<Figure size 460x460 with 4 Axes>"
      ]
     },
     "metadata": {},
     "output_type": "display_data"
    }
   ],
   "source": [
    "clustermap_obj_na = heatmaps_from_combined_dist_map(['Alpha', 'Beta', 'Omicron', 'Delta'],\n",
    "                                                    alpha_beta_na,\n",
    "                                                    beta_delta_na,\n",
    "                                                    delta_omicron_na,\n",
    "                                                    'North America')\n",
    "combined_distance_matrix_na = pd.DataFrame(clustermap_obj_na.data)"
   ]
  },
  {
   "cell_type": "markdown",
   "id": "7e1b0118",
   "metadata": {},
   "source": [
    "## Europe "
   ]
  },
  {
   "cell_type": "code",
   "execution_count": 110,
   "id": "5a2ae8bd",
   "metadata": {},
   "outputs": [],
   "source": [
    "# pd.set_option('display.max_rows', None)\n",
    "# print(df_weekly_sum[df_weekly_sum['Location'] == 'Europe'])"
   ]
  },
  {
   "cell_type": "code",
   "execution_count": 111,
   "id": "e1b4d1d1",
   "metadata": {},
   "outputs": [
    {
     "name": "stdout",
     "output_type": "stream",
     "text": [
      "Vaiants available at Europe : ['Alpha' 'Beta' 'Delta' 'Gamma' 'Omicron']\n",
      "['2020-11', '2020-12']\n",
      "Diatance matrix: \n",
      "           Alpha      Beta\n",
      "Alpha  0.000000  0.012519\n",
      "Beta   0.012519  0.000000\n",
      "Distance matrix saved at: /scr/mjpantho/Pantho_differential_fitness/distance_matrix_for_step_plot/Europe_2020-11_2020-12_dist_mat.csv\n"
     ]
    }
   ],
   "source": [
    "# #automation function finds the diatance matrix\n",
    "automation_mine('Europe', df_weekly_sum, start = '2020-11', end = '2020-12', variant_choice_set= {'Alpha', 'Beta'})"
   ]
  },
  {
   "cell_type": "code",
   "execution_count": 112,
   "id": "90e99af2",
   "metadata": {},
   "outputs": [
    {
     "name": "stdout",
     "output_type": "stream",
     "text": [
      "Vaiants available at Europe : ['Alpha' 'Beta' 'Delta' 'Gamma' 'Omicron']\n",
      "['2021-04', '2021-05']\n",
      "Diatance matrix: \n",
      "            Beta     Delta\n",
      "Beta   0.000000  0.031843\n",
      "Delta  0.031843  0.000000\n",
      "Distance matrix saved at: /scr/mjpantho/Pantho_differential_fitness/distance_matrix_for_step_plot/Europe_2021-04_2021-05_dist_mat.csv\n"
     ]
    }
   ],
   "source": [
    "# #automation function finds the diatance matrix\n",
    "automation_mine('Europe', df_weekly_sum, start = '2021-04', end = '2021-05', variant_choice_set= {'Beta', 'Delta'})"
   ]
  },
  {
   "cell_type": "code",
   "execution_count": 113,
   "id": "2d981bd7",
   "metadata": {},
   "outputs": [
    {
     "name": "stdout",
     "output_type": "stream",
     "text": [
      "Vaiants available at Europe : ['Alpha' 'Beta' 'Delta' 'Gamma' 'Omicron']\n",
      "['2021-11', '2021-12']\n",
      "Diatance matrix: \n",
      "             Delta   Omicron\n",
      "Delta    0.000000  0.072727\n",
      "Omicron  0.072727  0.000000\n",
      "Distance matrix saved at: /scr/mjpantho/Pantho_differential_fitness/distance_matrix_for_step_plot/Europe_2021-11_2021-12_dist_mat.csv\n"
     ]
    }
   ],
   "source": [
    "# #automation function finds the diatance matrix\n",
    "automation_mine('Europe', df_weekly_sum, start = '2021-11', end = '2021-12', variant_choice_set= {'Delta', 'Omicron'})"
   ]
  },
  {
   "cell_type": "code",
   "execution_count": 114,
   "id": "fd18044b",
   "metadata": {},
   "outputs": [
    {
     "data": {
      "text/html": [
       "<div>\n",
       "<style scoped>\n",
       "    .dataframe tbody tr th:only-of-type {\n",
       "        vertical-align: middle;\n",
       "    }\n",
       "\n",
       "    .dataframe tbody tr th {\n",
       "        vertical-align: top;\n",
       "    }\n",
       "\n",
       "    .dataframe thead th {\n",
       "        text-align: right;\n",
       "    }\n",
       "</style>\n",
       "<table border=\"1\" class=\"dataframe\">\n",
       "  <thead>\n",
       "    <tr style=\"text-align: right;\">\n",
       "      <th></th>\n",
       "      <th>Alpha</th>\n",
       "      <th>Beta</th>\n",
       "    </tr>\n",
       "  </thead>\n",
       "  <tbody>\n",
       "    <tr>\n",
       "      <th>Alpha</th>\n",
       "      <td>0.000000</td>\n",
       "      <td>0.012519</td>\n",
       "    </tr>\n",
       "    <tr>\n",
       "      <th>Beta</th>\n",
       "      <td>0.012519</td>\n",
       "      <td>0.000000</td>\n",
       "    </tr>\n",
       "  </tbody>\n",
       "</table>\n",
       "</div>"
      ],
      "text/plain": [
       "          Alpha      Beta\n",
       "Alpha  0.000000  0.012519\n",
       "Beta   0.012519  0.000000"
      ]
     },
     "execution_count": 114,
     "metadata": {},
     "output_type": "execute_result"
    }
   ],
   "source": [
    "alpha_beta_eu = pd.read_csv(\n",
    "    '/scr/mjpantho/Pantho_differential_fitness/distance_matrix_for_step_plot/Europe_2020-11_2020-12_dist_mat.csv',\n",
    "    index_col=0)\n",
    "alpha_beta_eu"
   ]
  },
  {
   "cell_type": "code",
   "execution_count": 115,
   "id": "71bfc58d",
   "metadata": {},
   "outputs": [
    {
     "data": {
      "text/html": [
       "<div>\n",
       "<style scoped>\n",
       "    .dataframe tbody tr th:only-of-type {\n",
       "        vertical-align: middle;\n",
       "    }\n",
       "\n",
       "    .dataframe tbody tr th {\n",
       "        vertical-align: top;\n",
       "    }\n",
       "\n",
       "    .dataframe thead th {\n",
       "        text-align: right;\n",
       "    }\n",
       "</style>\n",
       "<table border=\"1\" class=\"dataframe\">\n",
       "  <thead>\n",
       "    <tr style=\"text-align: right;\">\n",
       "      <th></th>\n",
       "      <th>Beta</th>\n",
       "      <th>Delta</th>\n",
       "    </tr>\n",
       "  </thead>\n",
       "  <tbody>\n",
       "    <tr>\n",
       "      <th>Beta</th>\n",
       "      <td>0.000000</td>\n",
       "      <td>0.031843</td>\n",
       "    </tr>\n",
       "    <tr>\n",
       "      <th>Delta</th>\n",
       "      <td>0.031843</td>\n",
       "      <td>0.000000</td>\n",
       "    </tr>\n",
       "  </tbody>\n",
       "</table>\n",
       "</div>"
      ],
      "text/plain": [
       "           Beta     Delta\n",
       "Beta   0.000000  0.031843\n",
       "Delta  0.031843  0.000000"
      ]
     },
     "execution_count": 115,
     "metadata": {},
     "output_type": "execute_result"
    }
   ],
   "source": [
    "beta_delta_eu = pd.read_csv(\n",
    "    '/scr/mjpantho/Pantho_differential_fitness/distance_matrix_for_step_plot/Europe_2021-04_2021-05_dist_mat.csv',\n",
    "    index_col= 0)\n",
    "beta_delta_eu"
   ]
  },
  {
   "cell_type": "code",
   "execution_count": 116,
   "id": "7addf873",
   "metadata": {},
   "outputs": [
    {
     "data": {
      "text/html": [
       "<div>\n",
       "<style scoped>\n",
       "    .dataframe tbody tr th:only-of-type {\n",
       "        vertical-align: middle;\n",
       "    }\n",
       "\n",
       "    .dataframe tbody tr th {\n",
       "        vertical-align: top;\n",
       "    }\n",
       "\n",
       "    .dataframe thead th {\n",
       "        text-align: right;\n",
       "    }\n",
       "</style>\n",
       "<table border=\"1\" class=\"dataframe\">\n",
       "  <thead>\n",
       "    <tr style=\"text-align: right;\">\n",
       "      <th></th>\n",
       "      <th>Delta</th>\n",
       "      <th>Omicron</th>\n",
       "    </tr>\n",
       "  </thead>\n",
       "  <tbody>\n",
       "    <tr>\n",
       "      <th>Delta</th>\n",
       "      <td>0.000000</td>\n",
       "      <td>0.072727</td>\n",
       "    </tr>\n",
       "    <tr>\n",
       "      <th>Omicron</th>\n",
       "      <td>0.072727</td>\n",
       "      <td>0.000000</td>\n",
       "    </tr>\n",
       "  </tbody>\n",
       "</table>\n",
       "</div>"
      ],
      "text/plain": [
       "            Delta   Omicron\n",
       "Delta    0.000000  0.072727\n",
       "Omicron  0.072727  0.000000"
      ]
     },
     "execution_count": 116,
     "metadata": {},
     "output_type": "execute_result"
    }
   ],
   "source": [
    "delta_omicron_eu = pd.read_csv(\n",
    "    '/scr/mjpantho/Pantho_differential_fitness/distance_matrix_for_step_plot/Europe_2021-11_2021-12_dist_mat.csv',\n",
    "    index_col=0)\n",
    "delta_omicron_eu"
   ]
  },
  {
   "cell_type": "code",
   "execution_count": 117,
   "id": "1c17d873",
   "metadata": {},
   "outputs": [
    {
     "name": "stdout",
     "output_type": "stream",
     "text": [
      "Distance Matrix :\n",
      "             Alpha      Beta     Delta   Omicron\n",
      "Alpha    0.000000  0.012519  0.044362  0.117089\n",
      "Beta     0.012519  0.000000  0.031843  0.104570\n",
      "Delta    0.044362  0.031843  0.000000  0.072727\n",
      "Omicron  0.117089  0.104570  0.072727  0.000000\n",
      "Combined distance matrix saved at : /scr/mjpantho/Pantho_differential_fitness/distance_matrix_for_step_plot/Europe_continent_combined_distance_matrix_for_who_labels.csv\n",
      "difference matrix :\n",
      "             Alpha      Beta     Delta   Omicron\n",
      "Alpha    0.000000 -0.012519 -0.044362 -0.117089\n",
      "Beta     0.012519  0.000000 -0.031843 -0.104570\n",
      "Delta    0.044362  0.031843  0.000000 -0.072727\n",
      "Omicron  0.117089  0.104570  0.072727  0.000000\n"
     ]
    },
    {
     "data": {
      "image/png": "[encoded data removed]",
      "text/plain": [
       "<Figure size 460x460 with 4 Axes>"
      ]
     },
     "metadata": {},
     "output_type": "display_data"
    }
   ],
   "source": [
    "clustermap_obj_eu = heatmaps_from_combined_dist_map(['Alpha', 'Beta', 'Omicron', 'Delta'],\n",
    "                                                    alpha_beta_eu,\n",
    "                                                    beta_delta_eu,\n",
    "                                                    delta_omicron_eu,\n",
    "                                                    'Europe')\n",
    "combined_distance_matrix_eu = pd.DataFrame(clustermap_obj_eu.data)"
   ]
  },
  {
   "cell_type": "markdown",
   "id": "7f3aa4a2",
   "metadata": {},
   "source": [
    "## Asia"
   ]
  },
  {
   "cell_type": "code",
   "execution_count": 118,
   "id": "351eb3a1",
   "metadata": {},
   "outputs": [],
   "source": [
    "# # #automation function finds the diatance matrix\n",
    "# automation_mine('Asia', df_weekly_sum, start = '2020-11', end = '2021-01', variant_choice_set= {'Alpha', 'Beta'})"
   ]
  },
  {
   "cell_type": "code",
   "execution_count": 119,
   "id": "00d554bf",
   "metadata": {},
   "outputs": [
    {
     "name": "stdout",
     "output_type": "stream",
     "text": [
      "Vaiants available at Asia : ['Alpha' 'Beta' 'Delta' 'Gamma' 'Omicron']\n",
      "['2021-02', '2021-03', '2021-04']\n",
      "Diatance matrix: \n",
      "            Beta     Delta\n",
      "Beta   0.000000  0.008729\n",
      "Delta  0.008729  0.000000\n",
      "Distance matrix saved at: /scr/mjpantho/Pantho_differential_fitness/distance_matrix_for_step_plot/Asia_2021-02_2021-04_dist_mat.csv\n"
     ]
    }
   ],
   "source": [
    "# #automation function finds the diatance matrix\n",
    "automation_mine('Asia', df_weekly_sum, start = '2021-02', end = '2021-04', variant_choice_set= {'Beta', 'Delta'})"
   ]
  },
  {
   "cell_type": "code",
   "execution_count": 120,
   "id": "b0191246",
   "metadata": {},
   "outputs": [
    {
     "name": "stdout",
     "output_type": "stream",
     "text": [
      "Vaiants available at Asia : ['Alpha' 'Beta' 'Delta' 'Gamma' 'Omicron']\n",
      "['2021-11', '2021-12']\n",
      "Diatance matrix: \n",
      "             Delta   Omicron\n",
      "Delta    0.000000  0.044816\n",
      "Omicron  0.044816  0.000000\n",
      "Distance matrix saved at: /scr/mjpantho/Pantho_differential_fitness/distance_matrix_for_step_plot/Asia_2021-11_2021-12_dist_mat.csv\n"
     ]
    }
   ],
   "source": [
    "# #automation function finds the diatance matrix\n",
    "automation_mine('Asia', df_weekly_sum, start = '2021-11', end = '2021-12', variant_choice_set= {'Delta', 'Omicron'})"
   ]
  },
  {
   "cell_type": "code",
   "execution_count": 121,
   "id": "cc02a686",
   "metadata": {},
   "outputs": [
    {
     "data": {
      "text/html": [
       "<div>\n",
       "<style scoped>\n",
       "    .dataframe tbody tr th:only-of-type {\n",
       "        vertical-align: middle;\n",
       "    }\n",
       "\n",
       "    .dataframe tbody tr th {\n",
       "        vertical-align: top;\n",
       "    }\n",
       "\n",
       "    .dataframe thead th {\n",
       "        text-align: right;\n",
       "    }\n",
       "</style>\n",
       "<table border=\"1\" class=\"dataframe\">\n",
       "  <thead>\n",
       "    <tr style=\"text-align: right;\">\n",
       "      <th></th>\n",
       "      <th>Alpha</th>\n",
       "      <th>Beta</th>\n",
       "    </tr>\n",
       "  </thead>\n",
       "  <tbody>\n",
       "    <tr>\n",
       "      <th>Alpha</th>\n",
       "      <td>0.000000</td>\n",
       "      <td>0.004142</td>\n",
       "    </tr>\n",
       "    <tr>\n",
       "      <th>Beta</th>\n",
       "      <td>0.004142</td>\n",
       "      <td>0.000000</td>\n",
       "    </tr>\n",
       "  </tbody>\n",
       "</table>\n",
       "</div>"
      ],
      "text/plain": [
       "          Alpha      Beta\n",
       "Alpha  0.000000  0.004142\n",
       "Beta   0.004142  0.000000"
      ]
     },
     "execution_count": 121,
     "metadata": {},
     "output_type": "execute_result"
    }
   ],
   "source": [
    "alpha_beta_asia = pd.read_csv(\n",
    "    '/scr/mjpantho/Pantho_differential_fitness/distance_matrix_for_step_plot/Asia_2020-11_2021-01_dist_mat.csv',\n",
    "    index_col=0)\n",
    "alpha_beta_asia"
   ]
  },
  {
   "cell_type": "code",
   "execution_count": 122,
   "id": "ff6fa616",
   "metadata": {},
   "outputs": [
    {
     "data": {
      "text/html": [
       "<div>\n",
       "<style scoped>\n",
       "    .dataframe tbody tr th:only-of-type {\n",
       "        vertical-align: middle;\n",
       "    }\n",
       "\n",
       "    .dataframe tbody tr th {\n",
       "        vertical-align: top;\n",
       "    }\n",
       "\n",
       "    .dataframe thead th {\n",
       "        text-align: right;\n",
       "    }\n",
       "</style>\n",
       "<table border=\"1\" class=\"dataframe\">\n",
       "  <thead>\n",
       "    <tr style=\"text-align: right;\">\n",
       "      <th></th>\n",
       "      <th>Beta</th>\n",
       "      <th>Delta</th>\n",
       "    </tr>\n",
       "  </thead>\n",
       "  <tbody>\n",
       "    <tr>\n",
       "      <th>Beta</th>\n",
       "      <td>0.000000</td>\n",
       "      <td>0.008729</td>\n",
       "    </tr>\n",
       "    <tr>\n",
       "      <th>Delta</th>\n",
       "      <td>0.008729</td>\n",
       "      <td>0.000000</td>\n",
       "    </tr>\n",
       "  </tbody>\n",
       "</table>\n",
       "</div>"
      ],
      "text/plain": [
       "           Beta     Delta\n",
       "Beta   0.000000  0.008729\n",
       "Delta  0.008729  0.000000"
      ]
     },
     "execution_count": 122,
     "metadata": {},
     "output_type": "execute_result"
    }
   ],
   "source": [
    "beta_delta_asia = pd.read_csv(\n",
    "    '/scr/mjpantho/Pantho_differential_fitness/distance_matrix_for_step_plot/Asia_2021-02_2021-04_dist_mat.csv',\n",
    "    index_col= 0)\n",
    "beta_delta_asia"
   ]
  },
  {
   "cell_type": "code",
   "execution_count": 123,
   "id": "91db747d",
   "metadata": {},
   "outputs": [
    {
     "data": {
      "text/html": [
       "<div>\n",
       "<style scoped>\n",
       "    .dataframe tbody tr th:only-of-type {\n",
       "        vertical-align: middle;\n",
       "    }\n",
       "\n",
       "    .dataframe tbody tr th {\n",
       "        vertical-align: top;\n",
       "    }\n",
       "\n",
       "    .dataframe thead th {\n",
       "        text-align: right;\n",
       "    }\n",
       "</style>\n",
       "<table border=\"1\" class=\"dataframe\">\n",
       "  <thead>\n",
       "    <tr style=\"text-align: right;\">\n",
       "      <th></th>\n",
       "      <th>Delta</th>\n",
       "      <th>Omicron</th>\n",
       "    </tr>\n",
       "  </thead>\n",
       "  <tbody>\n",
       "    <tr>\n",
       "      <th>Delta</th>\n",
       "      <td>0.000000</td>\n",
       "      <td>0.044816</td>\n",
       "    </tr>\n",
       "    <tr>\n",
       "      <th>Omicron</th>\n",
       "      <td>0.044816</td>\n",
       "      <td>0.000000</td>\n",
       "    </tr>\n",
       "  </tbody>\n",
       "</table>\n",
       "</div>"
      ],
      "text/plain": [
       "            Delta   Omicron\n",
       "Delta    0.000000  0.044816\n",
       "Omicron  0.044816  0.000000"
      ]
     },
     "execution_count": 123,
     "metadata": {},
     "output_type": "execute_result"
    }
   ],
   "source": [
    "delta_omicron_asia = pd.read_csv(\n",
    "    '/scr/mjpantho/Pantho_differential_fitness/distance_matrix_for_step_plot/Asia_2021-11_2021-12_dist_mat.csv',\n",
    "    index_col=0)\n",
    "delta_omicron_asia"
   ]
  },
  {
   "cell_type": "code",
   "execution_count": 124,
   "id": "03d27c4a",
   "metadata": {},
   "outputs": [
    {
     "name": "stdout",
     "output_type": "stream",
     "text": [
      "Distance Matrix :\n",
      "             Alpha      Beta     Delta   Omicron\n",
      "Alpha    0.000000  0.004142  0.012872  0.057688\n",
      "Beta     0.004142  0.000000  0.008729  0.053545\n",
      "Delta    0.012872  0.008729  0.000000  0.044816\n",
      "Omicron  0.057688  0.053545  0.044816  0.000000\n",
      "Combined distance matrix saved at : /scr/mjpantho/Pantho_differential_fitness/distance_matrix_for_step_plot/Asia_continent_combined_distance_matrix_for_who_labels.csv\n",
      "difference matrix :\n",
      "             Alpha      Beta     Delta   Omicron\n",
      "Alpha    0.000000 -0.004142 -0.012872 -0.057688\n",
      "Beta     0.004142  0.000000 -0.008729 -0.053545\n",
      "Delta    0.012872  0.008729  0.000000 -0.044816\n",
      "Omicron  0.057688  0.053545  0.044816  0.000000\n"
     ]
    },
    {
     "data": {
      "image/png": "[encoded data removed]",
      "text/plain": [
       "<Figure size 460x460 with 4 Axes>"
      ]
     },
     "metadata": {},
     "output_type": "display_data"
    }
   ],
   "source": [
    "clustermap_obj_asia = heatmaps_from_combined_dist_map(['Alpha', 'Beta', 'Omicron', 'Delta'],\n",
    "                                                    alpha_beta_asia,\n",
    "                                                    beta_delta_asia,\n",
    "                                                    delta_omicron_asia,\n",
    "                                                    'Asia')\n",
    "combined_distance_matrix_asia = pd.DataFrame(clustermap_obj_asia.data)"
   ]
  },
  {
   "cell_type": "markdown",
   "id": "3094e39e",
   "metadata": {},
   "source": [
    "## Africa"
   ]
  },
  {
   "cell_type": "code",
   "execution_count": 125,
   "id": "f73ed4b2",
   "metadata": {},
   "outputs": [],
   "source": [
    "# # pd.set_option('display.max_rows', None)\n",
    "# print(df_weekly_sum[df_weekly_sum['Location'] == 'Africa'])"
   ]
  },
  {
   "cell_type": "code",
   "execution_count": 126,
   "id": "40c32328",
   "metadata": {},
   "outputs": [
    {
     "name": "stdout",
     "output_type": "stream",
     "text": [
      "Vaiants available at Africa : ['Alpha' 'Beta' 'Delta' 'Gamma' 'Omicron']\n",
      "['2020-11', '2020-12', '2021-01']\n",
      "Diatance matrix: \n",
      "           Alpha      Beta\n",
      "Alpha  0.000000  0.027493\n",
      "Beta   0.027493  0.000000\n",
      "Distance matrix saved at: /scr/mjpantho/Pantho_differential_fitness/distance_matrix_for_step_plot/Africa_2020-11_2021-01_dist_mat.csv\n"
     ]
    }
   ],
   "source": [
    "# #automation function finds the diatance matrix\n",
    "automation_mine('Africa', df_weekly_sum, start = '2020-11', end = '2021-01', variant_choice_set= {'Alpha', 'Beta'})"
   ]
  },
  {
   "cell_type": "code",
   "execution_count": 127,
   "id": "1e40e9f3",
   "metadata": {},
   "outputs": [
    {
     "name": "stdout",
     "output_type": "stream",
     "text": [
      "Vaiants available at Africa : ['Alpha' 'Beta' 'Delta' 'Gamma' 'Omicron']\n",
      "['2021-05', '2021-06']\n",
      "Diatance matrix: \n",
      "            Beta     Delta\n",
      "Beta   0.000000  0.021367\n",
      "Delta  0.021367  0.000000\n",
      "Distance matrix saved at: /scr/mjpantho/Pantho_differential_fitness/distance_matrix_for_step_plot/Africa_2021-05_2021-06_dist_mat.csv\n"
     ]
    }
   ],
   "source": [
    "# #automation function finds the diatance matrix\n",
    "automation_mine('Africa', df_weekly_sum, start = '2021-05', end = '2021-06', variant_choice_set= {'Beta', 'Delta'})"
   ]
  },
  {
   "cell_type": "code",
   "execution_count": 128,
   "id": "52a5f7ab",
   "metadata": {},
   "outputs": [
    {
     "name": "stdout",
     "output_type": "stream",
     "text": [
      "Vaiants available at Africa : ['Alpha' 'Beta' 'Delta' 'Gamma' 'Omicron']\n",
      "['2021-11']\n",
      "Diatance matrix: \n",
      "             Delta   Omicron\n",
      "Delta    0.000000  0.051399\n",
      "Omicron  0.051399  0.000000\n",
      "Distance matrix saved at: /scr/mjpantho/Pantho_differential_fitness/distance_matrix_for_step_plot/Africa_2021-11_2021-11_dist_mat.csv\n"
     ]
    }
   ],
   "source": [
    "# #automation function finds the diatance matrix\n",
    "automation_mine('Africa', df_weekly_sum, start = '2021-11', end = '2021-11', variant_choice_set= {'Delta', 'Omicron'})"
   ]
  },
  {
   "cell_type": "code",
   "execution_count": 129,
   "id": "e462e750",
   "metadata": {},
   "outputs": [
    {
     "data": {
      "text/html": [
       "<div>\n",
       "<style scoped>\n",
       "    .dataframe tbody tr th:only-of-type {\n",
       "        vertical-align: middle;\n",
       "    }\n",
       "\n",
       "    .dataframe tbody tr th {\n",
       "        vertical-align: top;\n",
       "    }\n",
       "\n",
       "    .dataframe thead th {\n",
       "        text-align: right;\n",
       "    }\n",
       "</style>\n",
       "<table border=\"1\" class=\"dataframe\">\n",
       "  <thead>\n",
       "    <tr style=\"text-align: right;\">\n",
       "      <th></th>\n",
       "      <th>Alpha</th>\n",
       "      <th>Beta</th>\n",
       "    </tr>\n",
       "  </thead>\n",
       "  <tbody>\n",
       "    <tr>\n",
       "      <th>Alpha</th>\n",
       "      <td>0.000000</td>\n",
       "      <td>0.027493</td>\n",
       "    </tr>\n",
       "    <tr>\n",
       "      <th>Beta</th>\n",
       "      <td>0.027493</td>\n",
       "      <td>0.000000</td>\n",
       "    </tr>\n",
       "  </tbody>\n",
       "</table>\n",
       "</div>"
      ],
      "text/plain": [
       "          Alpha      Beta\n",
       "Alpha  0.000000  0.027493\n",
       "Beta   0.027493  0.000000"
      ]
     },
     "execution_count": 129,
     "metadata": {},
     "output_type": "execute_result"
    }
   ],
   "source": [
    "alpha_beta_af = pd.read_csv(\n",
    "    '/scr/mjpantho/Pantho_differential_fitness/distance_matrix_for_step_plot/Africa_2020-11_2021-01_dist_mat.csv',\n",
    "    index_col=0)\n",
    "alpha_beta_af"
   ]
  },
  {
   "cell_type": "code",
   "execution_count": 130,
   "id": "fe39ceb8",
   "metadata": {},
   "outputs": [
    {
     "data": {
      "text/html": [
       "<div>\n",
       "<style scoped>\n",
       "    .dataframe tbody tr th:only-of-type {\n",
       "        vertical-align: middle;\n",
       "    }\n",
       "\n",
       "    .dataframe tbody tr th {\n",
       "        vertical-align: top;\n",
       "    }\n",
       "\n",
       "    .dataframe thead th {\n",
       "        text-align: right;\n",
       "    }\n",
       "</style>\n",
       "<table border=\"1\" class=\"dataframe\">\n",
       "  <thead>\n",
       "    <tr style=\"text-align: right;\">\n",
       "      <th></th>\n",
       "      <th>Beta</th>\n",
       "      <th>Delta</th>\n",
       "    </tr>\n",
       "  </thead>\n",
       "  <tbody>\n",
       "    <tr>\n",
       "      <th>Beta</th>\n",
       "      <td>0.000000</td>\n",
       "      <td>0.021367</td>\n",
       "    </tr>\n",
       "    <tr>\n",
       "      <th>Delta</th>\n",
       "      <td>0.021367</td>\n",
       "      <td>0.000000</td>\n",
       "    </tr>\n",
       "  </tbody>\n",
       "</table>\n",
       "</div>"
      ],
      "text/plain": [
       "           Beta     Delta\n",
       "Beta   0.000000  0.021367\n",
       "Delta  0.021367  0.000000"
      ]
     },
     "execution_count": 130,
     "metadata": {},
     "output_type": "execute_result"
    }
   ],
   "source": [
    "beta_delta_af = pd.read_csv(\n",
    "    '/scr/mjpantho/Pantho_differential_fitness/distance_matrix_for_step_plot/Africa_2021-05_2021-06_dist_mat.csv',\n",
    "    index_col= 0)\n",
    "beta_delta_af"
   ]
  },
  {
   "cell_type": "code",
   "execution_count": 131,
   "id": "9a03bc2f",
   "metadata": {},
   "outputs": [
    {
     "data": {
      "text/html": [
       "<div>\n",
       "<style scoped>\n",
       "    .dataframe tbody tr th:only-of-type {\n",
       "        vertical-align: middle;\n",
       "    }\n",
       "\n",
       "    .dataframe tbody tr th {\n",
       "        vertical-align: top;\n",
       "    }\n",
       "\n",
       "    .dataframe thead th {\n",
       "        text-align: right;\n",
       "    }\n",
       "</style>\n",
       "<table border=\"1\" class=\"dataframe\">\n",
       "  <thead>\n",
       "    <tr style=\"text-align: right;\">\n",
       "      <th></th>\n",
       "      <th>Delta</th>\n",
       "      <th>Omicron</th>\n",
       "    </tr>\n",
       "  </thead>\n",
       "  <tbody>\n",
       "    <tr>\n",
       "      <th>Delta</th>\n",
       "      <td>0.000000</td>\n",
       "      <td>0.051399</td>\n",
       "    </tr>\n",
       "    <tr>\n",
       "      <th>Omicron</th>\n",
       "      <td>0.051399</td>\n",
       "      <td>0.000000</td>\n",
       "    </tr>\n",
       "  </tbody>\n",
       "</table>\n",
       "</div>"
      ],
      "text/plain": [
       "            Delta   Omicron\n",
       "Delta    0.000000  0.051399\n",
       "Omicron  0.051399  0.000000"
      ]
     },
     "execution_count": 131,
     "metadata": {},
     "output_type": "execute_result"
    }
   ],
   "source": [
    "delta_omicron_af = pd.read_csv(\n",
    "    '/scr/mjpantho/Pantho_differential_fitness/distance_matrix_for_step_plot/Africa_2021-11_2021-11_dist_mat.csv',\n",
    "    index_col=0)\n",
    "delta_omicron_af"
   ]
  },
  {
   "cell_type": "code",
   "execution_count": 132,
   "id": "c2216b12",
   "metadata": {
    "scrolled": true
   },
   "outputs": [
    {
     "name": "stdout",
     "output_type": "stream",
     "text": [
      "Distance Matrix :\n",
      "             Alpha      Beta     Delta   Omicron\n",
      "Alpha    0.000000  0.027493  0.048860  0.100258\n",
      "Beta     0.027493  0.000000  0.021367  0.072766\n",
      "Delta    0.048860  0.021367  0.000000  0.051399\n",
      "Omicron  0.100258  0.072766  0.051399  0.000000\n",
      "Combined distance matrix saved at : /scr/mjpantho/Pantho_differential_fitness/distance_matrix_for_step_plot/Africa_continent_combined_distance_matrix_for_who_labels.csv\n",
      "difference matrix :\n",
      "             Alpha      Beta     Delta   Omicron\n",
      "Alpha    0.000000 -0.027493 -0.048860 -0.100258\n",
      "Beta     0.027493  0.000000 -0.021367 -0.072766\n",
      "Delta    0.048860  0.021367  0.000000 -0.051399\n",
      "Omicron  0.100258  0.072766  0.051399  0.000000\n"
     ]
    },
    {
     "data": {
      "image/png": "[encoded data removed]",
      "text/plain": [
       "<Figure size 460x460 with 4 Axes>"
      ]
     },
     "metadata": {},
     "output_type": "display_data"
    }
   ],
   "source": [
    "clustermap_obj_af = heatmaps_from_combined_dist_map(['Alpha', 'Beta', 'Omicron', 'Delta'],\n",
    "                                                    alpha_beta_af,\n",
    "                                                    beta_delta_af,\n",
    "                                                    delta_omicron_af,\n",
    "                                                    'Africa')\n",
    "combined_distance_matrix_af = pd.DataFrame(clustermap_obj_af.data)"
   ]
  },
  {
   "cell_type": "markdown",
   "id": "c797d296",
   "metadata": {},
   "source": [
    "### Oceania"
   ]
  },
  {
   "cell_type": "code",
   "execution_count": 133,
   "id": "767465b0",
   "metadata": {},
   "outputs": [],
   "source": [
    "# pd.set_option('display.max_rows', None)\n",
    "# print(df_weekly_sum[df_weekly_sum['Location'] == 'Oceania'])"
   ]
  },
  {
   "cell_type": "code",
   "execution_count": 134,
   "id": "b172eee4",
   "metadata": {},
   "outputs": [
    {
     "name": "stdout",
     "output_type": "stream",
     "text": [
      "Vaiants available at Oceania : ['Alpha' 'Beta' 'Delta' 'Gamma' 'Omicron']\n",
      "['2021-01', '2021-02']\n",
      "Diatance matrix: \n",
      "          Alpha     Beta\n",
      "Alpha  0.00000  0.00755\n",
      "Beta   0.00755  0.00000\n",
      "Distance matrix saved at: /scr/mjpantho/Pantho_differential_fitness/distance_matrix_for_step_plot/Oceania_2021-01_2021-02_dist_mat.csv\n"
     ]
    }
   ],
   "source": [
    "# #automation function finds the diatance matrix\n",
    "automation_mine('Oceania', df_weekly_sum, start = '2021-01', end = '2021-02', variant_choice_set= {'Alpha', 'Beta'})"
   ]
  },
  {
   "cell_type": "code",
   "execution_count": 135,
   "id": "7cd0eca8",
   "metadata": {},
   "outputs": [
    {
     "name": "stdout",
     "output_type": "stream",
     "text": [
      "Vaiants available at Oceania : ['Alpha' 'Beta' 'Delta' 'Gamma' 'Omicron']\n",
      "['2021-06', '2021-07']\n",
      "Diatance matrix: \n",
      "            Beta     Delta\n",
      "Beta   0.000000  0.027171\n",
      "Delta  0.027171  0.000000\n",
      "Distance matrix saved at: /scr/mjpantho/Pantho_differential_fitness/distance_matrix_for_step_plot/Oceania_2021-06_2021-07_dist_mat.csv\n"
     ]
    }
   ],
   "source": [
    "# #automation function finds the diatance matrix\n",
    "automation_mine('Oceania', df_weekly_sum, start = '2021-06', end = '2021-07', variant_choice_set= {'Beta', 'Delta'})"
   ]
  },
  {
   "cell_type": "code",
   "execution_count": 136,
   "id": "d8deaf06",
   "metadata": {},
   "outputs": [
    {
     "name": "stdout",
     "output_type": "stream",
     "text": [
      "Vaiants available at Oceania : ['Alpha' 'Beta' 'Delta' 'Gamma' 'Omicron']\n",
      "['2021-11', '2021-12']\n",
      "Diatance matrix: \n",
      "             Delta   Omicron\n",
      "Delta    0.000000  0.076072\n",
      "Omicron  0.076072  0.000000\n",
      "Distance matrix saved at: /scr/mjpantho/Pantho_differential_fitness/distance_matrix_for_step_plot/Oceania_2021-11_2021-12_dist_mat.csv\n"
     ]
    }
   ],
   "source": [
    "# #automation function finds the diatance matrix\n",
    "automation_mine('Oceania', df_weekly_sum, start = '2021-11', end = '2021-12', variant_choice_set= {'Delta', 'Omicron'})"
   ]
  },
  {
   "cell_type": "code",
   "execution_count": 137,
   "id": "b11984b7",
   "metadata": {},
   "outputs": [
    {
     "data": {
      "text/html": [
       "<div>\n",
       "<style scoped>\n",
       "    .dataframe tbody tr th:only-of-type {\n",
       "        vertical-align: middle;\n",
       "    }\n",
       "\n",
       "    .dataframe tbody tr th {\n",
       "        vertical-align: top;\n",
       "    }\n",
       "\n",
       "    .dataframe thead th {\n",
       "        text-align: right;\n",
       "    }\n",
       "</style>\n",
       "<table border=\"1\" class=\"dataframe\">\n",
       "  <thead>\n",
       "    <tr style=\"text-align: right;\">\n",
       "      <th></th>\n",
       "      <th>Alpha</th>\n",
       "      <th>Beta</th>\n",
       "    </tr>\n",
       "  </thead>\n",
       "  <tbody>\n",
       "    <tr>\n",
       "      <th>Alpha</th>\n",
       "      <td>0.00000</td>\n",
       "      <td>0.00755</td>\n",
       "    </tr>\n",
       "    <tr>\n",
       "      <th>Beta</th>\n",
       "      <td>0.00755</td>\n",
       "      <td>0.00000</td>\n",
       "    </tr>\n",
       "  </tbody>\n",
       "</table>\n",
       "</div>"
      ],
      "text/plain": [
       "         Alpha     Beta\n",
       "Alpha  0.00000  0.00755\n",
       "Beta   0.00755  0.00000"
      ]
     },
     "execution_count": 137,
     "metadata": {},
     "output_type": "execute_result"
    }
   ],
   "source": [
    "alpha_beta_oc = pd.read_csv(\n",
    "    '/scr/mjpantho/Pantho_differential_fitness/distance_matrix_for_step_plot/Oceania_2021-01_2021-02_dist_mat.csv',\n",
    "    index_col=0)\n",
    "alpha_beta_oc"
   ]
  },
  {
   "cell_type": "code",
   "execution_count": 138,
   "id": "d2f74723",
   "metadata": {},
   "outputs": [
    {
     "data": {
      "text/html": [
       "<div>\n",
       "<style scoped>\n",
       "    .dataframe tbody tr th:only-of-type {\n",
       "        vertical-align: middle;\n",
       "    }\n",
       "\n",
       "    .dataframe tbody tr th {\n",
       "        vertical-align: top;\n",
       "    }\n",
       "\n",
       "    .dataframe thead th {\n",
       "        text-align: right;\n",
       "    }\n",
       "</style>\n",
       "<table border=\"1\" class=\"dataframe\">\n",
       "  <thead>\n",
       "    <tr style=\"text-align: right;\">\n",
       "      <th></th>\n",
       "      <th>Beta</th>\n",
       "      <th>Delta</th>\n",
       "    </tr>\n",
       "  </thead>\n",
       "  <tbody>\n",
       "    <tr>\n",
       "      <th>Beta</th>\n",
       "      <td>0.000000</td>\n",
       "      <td>0.027171</td>\n",
       "    </tr>\n",
       "    <tr>\n",
       "      <th>Delta</th>\n",
       "      <td>0.027171</td>\n",
       "      <td>0.000000</td>\n",
       "    </tr>\n",
       "  </tbody>\n",
       "</table>\n",
       "</div>"
      ],
      "text/plain": [
       "           Beta     Delta\n",
       "Beta   0.000000  0.027171\n",
       "Delta  0.027171  0.000000"
      ]
     },
     "execution_count": 138,
     "metadata": {},
     "output_type": "execute_result"
    }
   ],
   "source": [
    "beta_delta_oc = pd.read_csv(\n",
    "    '/scr/mjpantho/Pantho_differential_fitness/distance_matrix_for_step_plot/Oceania_2021-06_2021-07_dist_mat.csv',\n",
    "    index_col= 0)\n",
    "beta_delta_oc"
   ]
  },
  {
   "cell_type": "code",
   "execution_count": 139,
   "id": "0e3d86a8",
   "metadata": {},
   "outputs": [
    {
     "data": {
      "text/html": [
       "<div>\n",
       "<style scoped>\n",
       "    .dataframe tbody tr th:only-of-type {\n",
       "        vertical-align: middle;\n",
       "    }\n",
       "\n",
       "    .dataframe tbody tr th {\n",
       "        vertical-align: top;\n",
       "    }\n",
       "\n",
       "    .dataframe thead th {\n",
       "        text-align: right;\n",
       "    }\n",
       "</style>\n",
       "<table border=\"1\" class=\"dataframe\">\n",
       "  <thead>\n",
       "    <tr style=\"text-align: right;\">\n",
       "      <th></th>\n",
       "      <th>Delta</th>\n",
       "      <th>Omicron</th>\n",
       "    </tr>\n",
       "  </thead>\n",
       "  <tbody>\n",
       "    <tr>\n",
       "      <th>Delta</th>\n",
       "      <td>0.000000</td>\n",
       "      <td>0.076072</td>\n",
       "    </tr>\n",
       "    <tr>\n",
       "      <th>Omicron</th>\n",
       "      <td>0.076072</td>\n",
       "      <td>0.000000</td>\n",
       "    </tr>\n",
       "  </tbody>\n",
       "</table>\n",
       "</div>"
      ],
      "text/plain": [
       "            Delta   Omicron\n",
       "Delta    0.000000  0.076072\n",
       "Omicron  0.076072  0.000000"
      ]
     },
     "execution_count": 139,
     "metadata": {},
     "output_type": "execute_result"
    }
   ],
   "source": [
    "delta_omicron_oc = pd.read_csv(\n",
    "    '/scr/mjpantho/Pantho_differential_fitness/distance_matrix_for_step_plot/Oceania_2021-11_2021-12_dist_mat.csv',\n",
    "    index_col=0)\n",
    "delta_omicron_oc"
   ]
  },
  {
   "cell_type": "code",
   "execution_count": 140,
   "id": "a14dd2ab",
   "metadata": {},
   "outputs": [
    {
     "name": "stdout",
     "output_type": "stream",
     "text": [
      "Distance Matrix :\n",
      "             Alpha      Beta     Delta   Omicron\n",
      "Alpha    0.000000  0.007550  0.034721  0.110792\n",
      "Beta     0.007550  0.000000  0.027171  0.103243\n",
      "Delta    0.034721  0.027171  0.000000  0.076072\n",
      "Omicron  0.110792  0.103243  0.076072  0.000000\n",
      "Combined distance matrix saved at : /scr/mjpantho/Pantho_differential_fitness/distance_matrix_for_step_plot/Oceania_continent_combined_distance_matrix_for_who_labels.csv\n",
      "difference matrix :\n",
      "             Alpha      Beta     Delta   Omicron\n",
      "Alpha    0.000000 -0.007550 -0.034721 -0.110792\n",
      "Beta     0.007550  0.000000 -0.027171 -0.103243\n",
      "Delta    0.034721  0.027171  0.000000 -0.076072\n",
      "Omicron  0.110792  0.103243  0.076072  0.000000\n"
     ]
    },
    {
     "data": {
      "image/png": "[encoded data removed]",
      "text/plain": [
       "<Figure size 460x460 with 4 Axes>"
      ]
     },
     "metadata": {},
     "output_type": "display_data"
    }
   ],
   "source": [
    "clustermap_obj_oc = heatmaps_from_combined_dist_map(['Alpha', 'Beta', 'Omicron', 'Delta'],\n",
    "                                                    alpha_beta_oc,\n",
    "                                                    beta_delta_oc,\n",
    "                                                    delta_omicron_oc,\n",
    "                                                    'Oceania')\n",
    "combined_distance_matrix_oc = pd.DataFrame(clustermap_obj_oc.data)"
   ]
  },
  {
   "cell_type": "markdown",
   "id": "19511047",
   "metadata": {},
   "source": [
    "## South America"
   ]
  },
  {
   "cell_type": "code",
   "execution_count": 141,
   "id": "3678d26e",
   "metadata": {},
   "outputs": [],
   "source": [
    "# pd.set_option('display.max_rows', None)\n",
    "# print(df_weekly_sum[df_weekly_sum['Location'] == 'South America'])"
   ]
  },
  {
   "cell_type": "code",
   "execution_count": 142,
   "id": "52bdbae0",
   "metadata": {},
   "outputs": [],
   "source": [
    "# #automation function finds the diatance matrix\n",
    "# automation_mine('South America', df_weekly_sum, start = '2021-01', end = '2021-02', variant_choice_set= {'Alpha', 'Beta'})"
   ]
  },
  {
   "cell_type": "code",
   "execution_count": null,
   "id": "8b678ff8",
   "metadata": {},
   "outputs": [],
   "source": []
  }
 ],
 "metadata": {
  "kernelspec": {
   "display_name": "Python 3 (ipykernel)",
   "language": "python",
   "name": "python3"
  },
  "language_info": {
   "codemirror_mode": {
    "name": "ipython",
    "version": 3
   },
   "file_extension": ".py",
   "mimetype": "text/x-python",
   "name": "python",
   "nbconvert_exporter": "python",
   "pygments_lexer": "ipython3",
   "version": "3.10.6"
  }
 },
 "nbformat": 4,
 "nbformat_minor": 5
}
